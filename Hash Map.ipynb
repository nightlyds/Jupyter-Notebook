{
 "cells": [
  {
   "cell_type": "code",
   "execution_count": 125,
   "id": "b345e5c4",
   "metadata": {},
   "outputs": [],
   "source": [
    "from abc import ABC, abstractmethod"
   ]
  },
  {
   "cell_type": "code",
   "execution_count": 126,
   "id": "77e4b1d4",
   "metadata": {},
   "outputs": [],
   "source": [
    "class AbstractHashMap(ABC):\n",
    "    \n",
    "    @abstractmethod\n",
    "    def hash_function(self, object_value):\n",
    "        pass\n",
    "    \n",
    "    @abstractmethod\n",
    "    def check_hash(self, object_value):\n",
    "        pass\n",
    "    \n",
    "    @property\n",
    "    @abstractmethod\n",
    "    def HashMap(self):\n",
    "        pass\n",
    "    \n",
    "    @abstractmethod\n",
    "    def set_new(self, key, value):\n",
    "        pass\n",
    "    \n",
    "    @abstractmethod\n",
    "    def get(self, key):\n",
    "        pass\n",
    "    \n",
    "    @abstractmethod\n",
    "    def delete(self, key):\n",
    "        pass"
   ]
  },
  {
   "cell_type": "code",
   "execution_count": 127,
   "id": "29658bcb",
   "metadata": {},
   "outputs": [],
   "source": [
    "class HashMap(AbstractHashMap):\n",
    "    \n",
    "    def __init__(self):\n",
    "        self.__hashmap = {}\n",
    "        \n",
    "    def hash_function(self, object_value):\n",
    "        object_value_type = type(object_value)\n",
    "        object_value_id = id(object_value)\n",
    "        object_value_hash = 0 if object_value_type == str else None\n",
    "        \n",
    "        if object_value_type == str or object_value_type == int:\n",
    "            if object_value_type == str:\n",
    "                for i in object_value:\n",
    "                    object_value_hash += ord(i) # the character in ASCII table\n",
    "            else:\n",
    "                object_value_hash = hash(object_value)\n",
    "                \n",
    "        else:\n",
    "            object_value_hash = hash(frozenset(object_value))\n",
    "                \n",
    "        return object_value_hash + object_value_id\n",
    "    \n",
    "    def check_hash(self, object_value):\n",
    "        return True if self.hash_function(object_value) in self.__hashmap.keys() else False\n",
    "        \n",
    "    @property\n",
    "    def HashMap(self):\n",
    "        return self.__hashmap\n",
    "    \n",
    "    def set_new(self, key, value):\n",
    "        self.__hashmap[self.hash_function(key)] = value\n",
    "        \n",
    "        return None\n",
    "    \n",
    "    def get(self, key):\n",
    "        key_hash = self.hash_function(key) if self.check_hash(key) == True else None\n",
    "        \n",
    "        return self.__hashmap.get(key_hash) if key_hash else None\n",
    "        \n",
    "    def delete(self, key):\n",
    "        key_hash = self.hash_function(key) if self.check_hash(key) == True else None\n",
    "        if key_hash:\n",
    "            deleted_value = self.__hashmap.pop(key_hash)\n",
    "        \n",
    "        return deleted_value if key_hash else None\n",
    "    \n",
    "    def clear(self):\n",
    "        self.__hashmap.clear()\n",
    "        return self.HashMap\n",
    "        "
   ]
  },
  {
   "cell_type": "code",
   "execution_count": 128,
   "id": "c1a4c2f2",
   "metadata": {},
   "outputs": [
    {
     "name": "stdout",
     "output_type": "stream",
     "text": [
      "140020529859968\n",
      "{-272235380694357192: '123'}\n",
      "123 140020529859968\n",
      "140020538957376\n",
      "None 140020538956992\n",
      "None 140020538956992\n"
     ]
    }
   ],
   "source": [
    "hashmap = HashMap()\n",
    "\n",
    "a = [1, 2, 3]\n",
    "print(id(a))\n",
    "\n",
    "hashmap.set_new(a, '123')\n",
    "print(hashmap.HashMap)\n",
    "print(hashmap.get(a), id(a))\n",
    "a = [1, 2, 3]\n",
    "print(id(a))\n",
    "b = [1, 2, 3]\n",
    "print(hashmap.get(a), id(b))\n",
    "print(hashmap.get(b), id(b))"
   ]
  },
  {
   "cell_type": "code",
   "execution_count": 129,
   "id": "2fa233a2",
   "metadata": {},
   "outputs": [
    {
     "name": "stdout",
     "output_type": "stream",
     "text": [
      "{-272235380694357192: '123', 9784930: '213', 9784996: '2321313', 9785095: '213214124214124'}\n",
      "{}\n"
     ]
    }
   ],
   "source": [
    "hashmap.set_new(2, '213')\n",
    "hashmap.set_new(4, '2321313')\n",
    "hashmap.set_new(7, '213214124214124')\n",
    "print(hashmap.HashMap)\n",
    "print(hashmap.clear())"
   ]
  },
  {
   "cell_type": "code",
   "execution_count": 130,
   "id": "0c64e5cf",
   "metadata": {},
   "outputs": [
    {
     "name": "stdout",
     "output_type": "stream",
     "text": [
      "140020529959226\n",
      "5782401710798256979\n"
     ]
    }
   ],
   "source": [
    "print(hashmap.hash_function('1243'))\n",
    "print(hash('1243'))"
   ]
  },
  {
   "cell_type": "code",
   "execution_count": null,
   "id": "105cbc23",
   "metadata": {},
   "outputs": [],
   "source": []
  },
  {
   "cell_type": "code",
   "execution_count": null,
   "id": "2643abba",
   "metadata": {},
   "outputs": [],
   "source": []
  },
  {
   "cell_type": "code",
   "execution_count": null,
   "id": "17bd93ac",
   "metadata": {},
   "outputs": [],
   "source": []
  }
 ],
 "metadata": {
  "kernelspec": {
   "display_name": "Python 3",
   "language": "python",
   "name": "python3"
  },
  "language_info": {
   "codemirror_mode": {
    "name": "ipython",
    "version": 3
   },
   "file_extension": ".py",
   "mimetype": "text/x-python",
   "name": "python",
   "nbconvert_exporter": "python",
   "pygments_lexer": "ipython3",
   "version": "3.8.5"
  }
 },
 "nbformat": 4,
 "nbformat_minor": 5
}
